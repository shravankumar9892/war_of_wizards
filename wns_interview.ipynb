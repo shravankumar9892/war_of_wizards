{
  "nbformat": 4,
  "nbformat_minor": 0,
  "metadata": {
    "colab": {
      "name": "wns_interview.ipynb",
      "version": "0.3.2",
      "provenance": [],
      "private_outputs": true,
      "collapsed_sections": [
        "b_qSBgByE9Un",
        "gkACwW5DKtTu",
        "zyu2TJ_SKjyF",
        "qMzD_hI2zevX"
      ],
      "include_colab_link": true
    },
    "kernelspec": {
      "name": "python3",
      "display_name": "Python 3"
    }
  },
  "cells": [
    {
      "cell_type": "markdown",
      "metadata": {
        "id": "view-in-github",
        "colab_type": "text"
      },
      "source": [
        "[View in Colaboratory](https://colab.research.google.com/github/shravankumar9892/war_of_wizards/blob/master/wns_interview.ipynb)"
      ]
    },
    {
      "metadata": {
        "id": "b_qSBgByE9Un",
        "colab_type": "text"
      },
      "cell_type": "markdown",
      "source": [
        "# Authenticatioon + fetching data"
      ]
    },
    {
      "metadata": {
        "id": "r9sXLpCpEew_",
        "colab_type": "code",
        "colab": {}
      },
      "cell_type": "code",
      "source": [
        "# Do not give up, if it was easy everybody will do it. Hard makes it great!\n",
        "\n",
        "!pip install -U -q PyDrive\n",
        "from pydrive.auth import GoogleAuth\n",
        "from pydrive.drive import GoogleDrive\n",
        "from google.colab import auth\n",
        "from oauth2client.client import GoogleCredentials\n",
        "\n",
        "import pandas as pd\n",
        "import numpy as np\n",
        "import tensorflow as tf\n",
        "from tensorflow.python import keras # Use keras.layers. to make the neural network\n",
        "import shutil"
      ],
      "execution_count": 0,
      "outputs": []
    },
    {
      "metadata": {
        "id": "V-Xz7jaaFha0",
        "colab_type": "code",
        "colab": {}
      },
      "cell_type": "code",
      "source": [
        "# Authenticate\n",
        "auth.authenticate_user()\n",
        "gauth = GoogleAuth()\n",
        "gauth.credentials = GoogleCredentials.get_application_default()\n",
        "drive = GoogleDrive(gauth)"
      ],
      "execution_count": 0,
      "outputs": []
    },
    {
      "metadata": {
        "id": "xfwtmOdmFvtQ",
        "colab_type": "code",
        "colab": {}
      },
      "cell_type": "code",
      "source": [
        "train_downloaded = drive.CreateFile({'id':'1pDUDjhpnynkRjxRE22nsKdiECRT7MD1K'})\n",
        "train_downloaded.GetContentFile('train_LZdllcl.csv')\n",
        "test_downloaded = drive.CreateFile({'id':'1zmn8HGvvIg3uUVv0Q7R3vsK-kLPk9OnZ'})\n",
        "test_downloaded.GetContentFile('test_2umaH9m.csv')\n",
        "\n",
        "df_train = pd.read_csv('train_LZdllcl.csv')\n",
        "df_test = pd.read_csv('test_2umaH9m.csv')"
      ],
      "execution_count": 0,
      "outputs": []
    },
    {
      "metadata": {
        "id": "gkACwW5DKtTu",
        "colab_type": "text"
      },
      "cell_type": "markdown",
      "source": [
        "# Preprocessing + splitting"
      ]
    },
    {
      "metadata": {
        "id": "VLssnMEKO0WX",
        "colab_type": "code",
        "colab": {}
      },
      "cell_type": "code",
      "source": [
        "departments = list(np.unique(np.asarray(df_test.department))) #  9 categories\n",
        "#education_with_nan = np.unique(df_test.education)  # NaN present\n",
        "recruitment_channel = list(np.unique(df_test.recruitment_channel)) # 3 categories\n",
        "\n",
        "# NaN values in test data\n",
        "len(df_train) - len(df_test.previous_year_rating.dropna()) == 1812 and len(df_test) - len(df_test.education.dropna()) == 1034\n",
        "y_train = df_train['is_promoted']\n",
        "X_train = df_train[['department', 'education', 'recruitment_channel', 'no_of_trainings', 'age', 'previous_year_rating', 'length_of_service', 'KPIs_met >80%', 'awards_won?', 'avg_training_score']]\n",
        "X_test = df_test[['department', 'education', 'recruitment_channel', 'no_of_trainings', 'age', 'previous_year_rating', 'length_of_service', 'KPIs_met >80%', 'awards_won?', 'avg_training_score']]"
      ],
      "execution_count": 0,
      "outputs": []
    },
    {
      "metadata": {
        "id": "5vmSOLs7WYzD",
        "colab_type": "code",
        "colab": {}
      },
      "cell_type": "code",
      "source": [
        "# Preprocessing the data\n",
        "import sklearn\n",
        "from sklearn.preprocessing import LabelEncoder\n",
        "\n",
        "le = LabelEncoder()\n",
        "\n",
        "# department\n",
        "X_train['department'] = le.fit_transform(X_train['department'].astype('str'))\n",
        "X_test['department'] = le.fit_transform(X_test['department'].astype('str'))\n",
        "\n",
        "# recruitment_channel\n",
        "X_train['recruitment_channel'] = le.fit_transform(X_train['recruitment_channel'].astype('str'))\n",
        "X_test['recruitment_channel'] = le.fit_transform(X_test['recruitment_channel'].astype('str'))\n",
        "\n",
        "# education\n",
        "X_train['education'] = le.fit_transform(X_train['education'].astype('str'))\n",
        "X_test['education'] = le.fit_transform(X_test['education'].astype('str'))\n"
      ],
      "execution_count": 0,
      "outputs": []
    },
    {
      "metadata": {
        "id": "N1FRBpQvRX5y",
        "colab_type": "code",
        "colab": {}
      },
      "cell_type": "code",
      "source": [
        "# As of now dropping off education\n",
        "#X_train.drop(columns = 'education', inplace = True)\n",
        "#X_test.drop(columns = 'education', inplace = True)\n",
        "\n",
        "# Filling in NaN values\n",
        "X_train.fillna(method = 'ffill', inplace = True)\n",
        "X_test.fillna(method = 'ffill', inplace = True)"
      ],
      "execution_count": 0,
      "outputs": []
    },
    {
      "metadata": {
        "id": "ZwHS11avtK5c",
        "colab_type": "code",
        "colab": {}
      },
      "cell_type": "code",
      "source": [
        "# Create validation data\n",
        "\n",
        "from sklearn.model_selection import train_test_split\n",
        "X_train, X_valid, y_train, y_valid = train_test_split(X_train, y_train, test_size = 0.3, random_state = 3, shuffle = True)"
      ],
      "execution_count": 0,
      "outputs": []
    },
    {
      "metadata": {
        "id": "zyu2TJ_SKjyF",
        "colab_type": "text"
      },
      "cell_type": "markdown",
      "source": [
        "# sklearn trees"
      ]
    },
    {
      "metadata": {
        "id": "j0jMaAwQRgZe",
        "colab_type": "code",
        "colab": {}
      },
      "cell_type": "code",
      "source": [
        "from sklearn.ensemble import RandomForestClassifier\n",
        "from sklearn.linear_model import LogisticRegressionCV\n",
        "\n",
        "from sklearn.metrics import f1_score, make_scorer\n",
        "score = make_scorer(f1_score, greater_is_better = True)\n",
        "#estimator = RandomForestClassifier(n_estimators = 200, max_depth = 40, oob_score = True)\n",
        "#estimator.fit(X_train, y_train)\n",
        "\n",
        "lr = LogisticRegressionCV(penalty = 'l2', random_state = 3, scoring = score)\n",
        "lr.fit(X_train, y_train)"
      ],
      "execution_count": 0,
      "outputs": []
    },
    {
      "metadata": {
        "id": "McKdF9szEwB_",
        "colab_type": "code",
        "colab": {}
      },
      "cell_type": "code",
      "source": [
        "# y_hat contains prediction over the training data\n",
        "y_hat = lr.predict(X_valid)\n",
        "f1_score(y_hat, np.asarray(y_train).reshape(38365,))\n",
        "#lr.score(X_train, np.asarray(y_train).reshape(38365,))"
      ],
      "execution_count": 0,
      "outputs": []
    },
    {
      "metadata": {
        "id": "pKdySY1BFqBd",
        "colab_type": "code",
        "colab": {}
      },
      "cell_type": "code",
      "source": [
        "TELEGRAM\n",
        "y_hat.shape"
      ],
      "execution_count": 0,
      "outputs": []
    },
    {
      "metadata": {
        "id": "CvqJC-HcsE22",
        "colab_type": "code",
        "colab": {}
      },
      "cell_type": "code",
      "source": [
        "# Accuracy\n",
        "from sklearn.metrics import f1_score\n",
        "f1_score(X_train, y_train)*100"
      ],
      "execution_count": 0,
      "outputs": []
    },
    {
      "metadata": {
        "id": "tKLBjm_uuMDe",
        "colab_type": "code",
        "colab": {}
      },
      "cell_type": "code",
      "source": [
        "# Over validation data\n",
        "lr.score(X_valid, y_valid)*100"
      ],
      "execution_count": 0,
      "outputs": []
    },
    {
      "metadata": {
        "id": "fxcePSvkbS33",
        "colab_type": "code",
        "colab": {}
      },
      "cell_type": "code",
      "source": [
        "# Prediction\n",
        "\n",
        "X_test = X_test.loc[1:, :]\n",
        "pred = estimator.predict(X_test)\n",
        "\n",
        "# NaN\n",
        "pred = np.insert(pred, 0, 1) # Assuming promotion is possible for 1st row"
      ],
      "execution_count": 0,
      "outputs": []
    },
    {
      "metadata": {
        "id": "1HGm0tOfh79r",
        "colab_type": "code",
        "colab": {}
      },
      "cell_type": "code",
      "source": [
        "# Creating Submission file\n",
        "\n",
        "employee_id = np.asarray(df_test.employee_id)\n",
        "df = pd.DataFrame({'employee_id':employee_id, 'is_promoted':pred})\n",
        "\n",
        "df.to_csv(path_or_buf = 'predictions_hack_education_included.csv', index = False, sep = ',')\n",
        "from google.colab import files\n",
        "files.download('predictions_hack_education_included.csv')"
      ],
      "execution_count": 0,
      "outputs": []
    },
    {
      "metadata": {
        "id": "qMzD_hI2zevX",
        "colab_type": "text"
      },
      "cell_type": "markdown",
      "source": [
        "# NEURAL NETWORKS"
      ]
    },
    {
      "metadata": {
        "id": "JxEld1UZzeVj",
        "colab_type": "code",
        "colab": {}
      },
      "cell_type": "code",
      "source": [
        "# Creating input pipelines\n",
        "\n",
        "def decode_line(row):\n",
        "  cols = tf.decode_csv(row, record_defaults = [[65438], ['Sales & Marketing'], ['region_7'], ['Master\\'s & above'], ['f'], ['sourcing'], [1], [35], [5.0], [8], [1], [0], [49], [0]])\n",
        "  features = {\n",
        "      'department':cols[1],\n",
        "      'recruitment_channel':cols[5],\n",
        "      'no_of_trainings':cols[6],\n",
        "      'age':cols[7],\n",
        "      'previous_year_rating':cols[8],\n",
        "      'length_of_service':cols[9],\n",
        "      'KPIs_met >80%':cols[10],\n",
        "      'awards_won?':cols[11],\n",
        "      'avg_training_score':cols[12]\n",
        "  }\n",
        "  label = cols[13]\n",
        "  return features, label\n",
        "\n",
        "# Training data\n",
        "def input_train_fn():\n",
        "  return tf.data.Dataset.list_files(\"train_LZdllcl.csv\")\\\n",
        "                        .flat_map(tf.data.TextLineDataset)\\\n",
        "                        .map(decode_line)\\\n",
        "                        .shuffle(1000)\\\n",
        "                        .repeat(15)\\\n",
        "                        .batch(128)\\\n",
        "                        .make_one_shot_iterator()\\\n",
        "                        .get_next()\n",
        "\n",
        "# Test data\n",
        "def input_test_fn():\n",
        "  return tf.data.Dataset.list_files(\"test_2umaH9m.csv\")\\\n",
        "                        .flat_map(tf.data.TextLineDataset)\\\n",
        "                        .map(decode_line)\\\n",
        "                        .repeat(15)\\\n",
        "                        .make_one_shot_iterator()\\\n",
        "                        .get_next()"
      ],
      "execution_count": 0,
      "outputs": []
    },
    {
      "metadata": {
        "id": "z1ZFxD3F3zF5",
        "colab_type": "text"
      },
      "cell_type": "markdown",
      "source": [
        "**Model**"
      ]
    },
    {
      "metadata": {
        "id": "0x6wVtf61U4y",
        "colab_type": "code",
        "colab": {}
      },
      "cell_type": "code",
      "source": [
        "optimizer = tf.train.AdamOptimizer(\n",
        "    learning_rate=0.01,\n",
        "    beta1=0.9,\n",
        "    beta2=0.999,\n",
        "    epsilon=1e-08,\n",
        "    use_locking=False,\n",
        "    name='Adam'\n",
        ")\n",
        "featcols = [tf.feature_column.categorical_column_with_vocabulary_list(key = 'department', vocabulary_list=departments),\\\n",
        "            tf.feature_column.categorical_column_with_vocabulary_list(key = 'recruitment_channel', vocabulary_list=['sourcing', 'other', '']),\\\n",
        "            tf.feature_column.numeric_column(\"no_of_trainings\"),\\\n",
        "            tf.feature_column.numeric_column(\"age\"),\\\n",
        "            tf.feature_column.numeric_column(\"previous_year_rating\"),\\\n",
        "            tf.feature_column.numeric_column(\"length_of_service\"),\\\n",
        "            tf.feature_column.numeric_column(\"KPIs_met >80%\"),\\\n",
        "            tf.feature_column.numeric_column(\"awards_won?\"),\\\n",
        "            tf.feature_column.numeric_column(\"avg_training_score\")\n",
        "           ]\n",
        "model = tf.estimator.LinearRegressor(featcols, './outdir', optimizer = optimizer)"
      ],
      "execution_count": 0,
      "outputs": []
    },
    {
      "metadata": {
        "id": "onkDq-P75Wvi",
        "colab_type": "code",
        "colab": {}
      },
      "cell_type": "code",
      "source": [
        "X_train.drop(labels = ['KPIs_met >80%', 'awards_won?'], axis = 1, inplace = True)"
      ],
      "execution_count": 0,
      "outputs": []
    },
    {
      "metadata": {
        "id": "yw0XtqUxKXXx",
        "colab_type": "text"
      },
      "cell_type": "markdown",
      "source": [
        "# Dataset from Pandas DataFrame"
      ]
    },
    {
      "metadata": {
        "id": "ktWjMQvTybo_",
        "colab_type": "code",
        "colab": {}
      },
      "cell_type": "code",
      "source": [
        "# Second approach for input pipelines\n",
        "\n",
        "def make_input_fn(X, y, num_epochs):\n",
        "  return tf.estimator.inputs.pandas_input_fn(\n",
        "    x = X,\n",
        "    y = y,\n",
        "    batch_size = 128,\n",
        "    num_epochs = num_epochs,\n",
        "    shuffle = True,\n",
        "    queue_capacity = 1000,\n",
        "    num_threads = 1\n",
        "  )\n",
        "\n",
        "def make_prediction_input_fn(X, num_epochs):\n",
        "  return tf.estimator.inputs.pandas_input_fn(\n",
        "    x = X,\n",
        "    y = None,\n",
        "    batch_size = 128,\n",
        "    num_epochs = num_epochs,\n",
        "    shuffle = True,\n",
        "    queue_capacity = 1000,\n",
        "    num_threads = 1\n",
        "  )\n",
        "\n",
        "def make_feature_cols():\n",
        "    categorical_column = tf.feature_column.categorical_column_with_vocabulary_list(key=\"Sex\", vocabulary_list=[\"male\", \"female\"], default_value=0)\n",
        "    return [tf.feature_column.indicator_column(tf.feature_column.categorical_column_with_vocabulary_list(key = 'department', vocabulary_list=[0,1,2,3,4,5,6,7,8], default_value = 0)),\\\n",
        "            tf.feature_column.indicator_column(tf.feature_column.categorical_column_with_vocabulary_list(key = 'recruitment_channel', vocabulary_list=[0,1,2])),\\\n",
        "            tf.feature_column.numeric_column(\"no_of_trainings\"),\\\n",
        "            tf.feature_column.numeric_column(\"age\"),\\\n",
        "            tf.feature_column.numeric_column(\"previous_year_rating\"),\\\n",
        "            tf.feature_column.numeric_column(\"length_of_service\"),\\\n",
        "            #tf.feature_column.numeric_column(\"KPIs_met >80%\"),\\\n",
        "            #tf.feature_column.numeric_column(\"awards_won?\"),\\\n",
        "            tf.feature_column.numeric_column(\"avg_training_score\")\n",
        "           ] "
      ],
      "execution_count": 0,
      "outputs": []
    },
    {
      "metadata": {
        "id": "W4hvA1DW2m-B",
        "colab_type": "code",
        "colab": {}
      },
      "cell_type": "code",
      "source": [
        "tf.logging.set_verbosity(tf.logging.INFO)\n",
        "output_dir = './outdir'\n",
        "\n",
        "optimizer=tf.train.AdamOptimizer()\n",
        "\n",
        "shutil.rmtree(output_dir, ignore_errors = True) # start fresh each time\n",
        "#model = tf.estimator.LinearClassifier(\n",
        "#      feature_columns = make_feature_cols(), model_dir = output_dir, optimizer = optimizer, n_classes = 2)\n",
        "model = tf.estimator.DNNClassifier(hidden_units = [6, 6],\n",
        "      feature_columns = make_feature_cols(), optimizer = optimizer, model_dir = output_dir)\n",
        "model.train(input_fn = make_input_fn(X = X_train, y = y_train, num_epochs = int(input(\"Enter number of epochs:\"))))"
      ],
      "execution_count": 0,
      "outputs": []
    },
    {
      "metadata": {
        "id": "JCwE3Bb-26yi",
        "colab_type": "code",
        "colab": {}
      },
      "cell_type": "code",
      "source": [
        "def print_rmse(model, name, X, y):\n",
        "  metrics = model.evaluate(input_fn = make_input_fn(X, y, 1))\n",
        "  print('RMSE on {} dataset = {}'.format(name, np.sqrt(metrics['average_loss'])))\n",
        "  print('f1_score on {} dataset = {}'.format(name, (metrics['precision']*metrics['recall']/(metrics['precision'] + metrics['recall']))))\n",
        "print_rmse(model, 'validation', X_valid, y_valid)"
      ],
      "execution_count": 0,
      "outputs": []
    },
    {
      "metadata": {
        "id": "gVNKZZCX4uG7",
        "colab_type": "text"
      },
      "cell_type": "markdown",
      "source": [
        "**Prediction Time :**"
      ]
    },
    {
      "metadata": {
        "id": "hKtVHK_43udY",
        "colab_type": "code",
        "colab": {}
      },
      "cell_type": "code",
      "source": [
        "predictions = model.predict(input_fn = make_prediction_input_fn(X_test, 1))\n",
        "predictions"
      ],
      "execution_count": 0,
      "outputs": []
    },
    {
      "metadata": {
        "id": "uH7XVuZ-44oD",
        "colab_type": "code",
        "colab": {}
      },
      "cell_type": "code",
      "source": [
        "ans = pd.DataFrame(np.asarray(list(predictions)), axis = 1)"
      ],
      "execution_count": 0,
      "outputs": []
    },
    {
      "metadata": {
        "id": "utHU4lnJ58sR",
        "colab_type": "code",
        "colab": {}
      },
      "cell_type": "code",
      "source": [
        "ans"
      ],
      "execution_count": 0,
      "outputs": []
    },
    {
      "metadata": {
        "id": "su5DyvVx6TxX",
        "colab_type": "code",
        "colab": {}
      },
      "cell_type": "code",
      "source": [
        ""
      ],
      "execution_count": 0,
      "outputs": []
    }
  ]
}